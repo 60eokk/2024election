{
 "cells": [
  {
   "attachments": {},
   "cell_type": "markdown",
   "metadata": {},
   "source": [
    "### Predictions for 2024\n",
    "\n",
    "For each election, we can see the minor and major differences, and even the \"emphasis\" on each election. \n",
    "While older elections focused more on each candidate's emphasis on the election process, it seems that the recent elections focused more on varied topics. However, TF-IDF keywords that were more related to the professional side of election seemed like a positive sign of a \"winner\". \n",
    "\n",
    "LDA Topics will not have a big impact oan the decision of 2024 Election, as it only picks out different candidate's focus on the process. This will differ for every single candidate. \n",
    "\n",
    "Sentiment analysis were all positive, and did not have a great impact. They only differed in small numbers, and even went the opposite direction for 2016 election. "
   ]
  },
  {
   "attachments": {},
   "cell_type": "markdown",
   "metadata": {},
   "source": [
    "## Predictions on 07/16/2024 & Predictions before and after \"Trump Rally Shooting\"\n",
    "\n",
    "For Trump, TF-IDF shows focus on legal issues while family issues show up for Biden's keywords. For LDA Topics, Biden has a more variery of topics and they do not seem to correlate with the election process compared to Trump. \n",
    "\n",
    "Trump seems to be the winner as of right now.\n",
    "\n",
    "### SHOOTING\n",
    "Again for sentiment analysis, the number has dropped which was against my expectation. This adds to my thought that sentiment analysis does not function as a \"good\" indicator in this election prediction. "
   ]
  },
  {
   "attachments": {},
   "cell_type": "markdown",
   "metadata": {},
   "source": [
    "### 2012 Election\n",
    "\n",
    "Obama vs Romney\n",
    "\n",
    "TF-IDF results show economic issues (tax, budget, income) and political issues (house, republican) for Obama, while Romney's TF-IDF keywords were more varied and did not focus on certain topics. LDA Topics matched each candidate's emphasis during the election process. \n",
    "\n",
    "Sentiment analysis was a win for Obama by a small number. "
   ]
  },
  {
   "attachments": {},
   "cell_type": "markdown",
   "metadata": {},
   "source": [
    "Aggregate Rankings"
   ]
  },
  {
   "attachments": {},
   "cell_type": "markdown",
   "metadata": {},
   "source": [
    "![Alt text](Screenshot%202024-07-13%20at%202.14.34%E2%80%AFPM.png)\n",
    "![Alt text](Screenshot%202024-07-13%20at%202.14.54%E2%80%AFPM.png)"
   ]
  },
  {
   "attachments": {},
   "cell_type": "markdown",
   "metadata": {},
   "source": [
    "TF-DIF:\n",
    "\n",
    "TF-IDF Keywords for 'obama': [('tax', 0.3822481780710616), ('budget', 0.23684245411821647), ('deal', 0.23684245411821647), ('president', 0.2211624032827598), ('income', 0.21514376227618542), ('plan', 0.2062598656428448), ('house', 0.20323498885595737), ('obama', 0.19926142303901864), ('short', 0.1983129493053318), ('middle', 0.18456117380081372), ('term', 0.17852387702660838), ('republicans', 0.1677303608299601), ('said', 0.13884280871812804), ('prevent', 0.12529711481136727), ('talks', 0.12529711481136727), ('advantage', 0.11842122705910824), ('agreement', 0.11842122705910824), ('boehner', 0.11842122705910824), ('elections', 0.11260774679892986), ('taxes', 0.11260774679892986)]\n",
    "\n",
    "\n",
    "TF-IDF Keywords for 'romney': [('playlist', 0.6253674662719007), ('free', 0.3506966129462517), ('romney', 0.33154482411902175), ('music', 0.24508973894325944), ('best', 0.23280328777701165), ('night', 0.16404603733518738), ('ll', 0.1633931592955063), ('supporters', 0.13448614173593718), ('obama', 0.1326179296476087), ('ve', 0.1293045708394399), ('election', 0.12636286206646902), ('let', 0.12461726980706941), ('know', 0.10320857192185318), ('magazine', 0.07721334384262607), ('obviously', 0.07342282197928293), ('politics', 0.07342282197928293), ('self', 0.07342282197928293), ('track', 0.07342282197928293), ('different', 0.07013932258925035), ('showed', 0.07013932258925035)]"
   ]
  },
  {
   "attachments": {},
   "cell_type": "markdown",
   "metadata": {},
   "source": [
    "LDA:\n",
    "\n",
    "LDA Topics for 'obama': {0: ['obama', 'romney', 'said', 'president', 'voters', 'people', 'women', 'republican', 'election', 'new'], 1: ['obama', 'president', 'election', 'year', 'day', 'ap', 'romney', 'house', 'supporters', 'said'], 2: ['new', 'said', 'obama', 'justice', 'administration', 'air', 'rules', 'people', 'time', 'president'], 3: ['president', 'obama', 'said', 'people', 'children', 'control', 'new', 'time', 'press', 'sandy'], 4: ['obama', 'said', 'president', 'party', 'media', 'country', 'election', 'years', 'people', 'political']}\n",
    "\n",
    "\n",
    "LDA Topics for 'romney': {0: ['obama', 'romney', 'house', 'mr', 'white', 'president', 'said', '11', 'republicans', 'state'], 1: ['romney', 'obama', 'mitt', 'party', 'america', 'said', 'campaign', 'president', 'republican', 'people'], 2: ['millions', 'poor', 'twitter', 'thanks', 'clear', 'lines', 'city', 'massive', 'surely', 'interview'], 3: ['romney', 'obama', 'election', 'campaign', 'said', 'president', 'team', 'women', 'make', 'states'], 4: ['romney', 'said', 'iran', 'obama', 'foreign', 'debate', 'world', 'policy', 'israel', 'east']}"
   ]
  },
  {
   "attachments": {},
   "cell_type": "markdown",
   "metadata": {},
   "source": [
    "Sentiment Analysis:\n",
    "\n",
    "Average sentiment for 'obama': 0.09242563576020708\n",
    "\n",
    "Average sentiment for 'romney': 0.07191853328816626"
   ]
  },
  {
   "attachments": {},
   "cell_type": "markdown",
   "metadata": {},
   "source": [
    "### 2016 Election\n",
    "Trump vs Clinton\n",
    "\n",
    "TF-IDF result show focus on the professional / government related-side (elect, nominee, secretary, bank) for Trump, while there is a big variety for Clinton. Clinton even had a high number for her oppponent Trump.\n",
    "\n",
    "LDA Topics are both election related for both, and it shows what each candidate were emphasizing on their elections, respectively. \n",
    "\n",
    "Surprisingly Clinton had a slightly higher sentiment analysis against Trump."
   ]
  },
  {
   "attachments": {},
   "cell_type": "markdown",
   "metadata": {},
   "source": [
    "Aggregate Rankings\n"
   ]
  },
  {
   "attachments": {},
   "cell_type": "markdown",
   "metadata": {},
   "source": [
    "![Alt text](Screenshot%202024-07-13%20at%202.19.36%E2%80%AFPM.png)\n",
    "![Alt text](Screenshot%202024-07-13%20at%202.19.44%E2%80%AFPM.png)"
   ]
  },
  {
   "attachments": {},
   "cell_type": "markdown",
   "metadata": {},
   "source": [
    "TD-IDF:\n",
    "\n",
    "TF-IDF Keywords for 'trump': [('10pm', 0.7381495437704927), ('gmt', 0.3654652554832295), ('trump', 0.3134630743477212), ('secretary', 0.14901951439988934), ('december', 0.13238226680090295), ('known', 0.10399713858370573), ('2016', 0.10212555422484113), ('michigan', 0.09934634293325956), ('picks', 0.09934634293325956), ('fight', 0.09524405043738653), ('tower', 0.0882548445339353), ('nominee', 0.08522430523011329), ('election', 0.06900929914432462), ('pic', 0.06743264184330444), ('said', 0.06364625135661822), ('president', 0.06115797891305895), ('com', 0.061082522319693806), ('elect', 0.05829469640564239), ('bank', 0.057858103832071704), ('twitter', 0.056980229823820776)]\n",
    "\n",
    "TF-IDF Keywords for 'clinton': [('trump', 0.3443803263450686), ('farage', 0.3139688181506754), ('ambassador', 0.2616406817922295), ('girls', 0.2616406817922295), ('plan', 0.22034411857481867), ('tax', 0.21049023718706938), ('america', 0.20303240876359022), ('foreign', 0.2017984978137626), ('climate', 0.196139133286279), ('science', 0.196139133286279), ('cut', 0.1322064711448912), ('office', 0.11641408320161317), ('recount', 0.1046562727168918), ('right', 0.10353496047414061), ('johnson', 0.0980695666431395), ('guardian', 0.09560387554914553), ('earth', 0.09268783592119843), ('uk', 0.09268783592119843), ('urged', 0.09268783592119843), ('speaking', 0.08813764742992747)]"
   ]
  },
  {
   "attachments": {},
   "cell_type": "markdown",
   "metadata": {},
   "source": [
    "LDA:\n",
    "\n",
    "LDA Topics for 'trump': {0: ['president', 'obama', 'campaign', 'said', 'new', 'election', 'deal', 'house', 'elect', 'administration'], 1: ['said', 'people', 'president', 'new', 'man', 'world', 'election', 'like', 'women', 'clinton'], 2: ['gmt', '10', '2016', 'clinton', 'com', 'twitter', 'pic', 'thing', 'said', 'november'], 3: ['brexit', 'joining', 'weekend', 'powers', 'ultimately', 'sit', 'tv', 'join', 'heard', 'bigotry'], 4: ['people', 'white', 'clinton', 'like', 'party', 'america', 'says', 'won', 'just', 'change']}\n",
    "\n",
    "LDA Topics for 'clinton': {0: ['gmt', '10', '2016', 'november', 'vote', 'said', 'campaign', 'pic', 'com', 'election'], 1: ['election', 'comey', 'fbi', 'vote', 'state', 'campaign', 'said', 'emails', 'director', 'states'], 2: ['bst', '10', '2016', 'said', 'october', 'donald', 'obama', 'twitter', 'thing', 'sanders'], 3: ['president', 'woman', 'female', 'women', 'white', 'house', 'american', 'gmt', 'america', 'll'], 4: ['said', 'president', 'election', 'new', 'donald', 'women', 'campaign', 'year', 'debate', 'presidential']}"
   ]
  },
  {
   "attachments": {},
   "cell_type": "markdown",
   "metadata": {},
   "source": [
    "Sentiment Analysis:\n",
    "\n",
    "Average sentiment for 'trump': 0.08939982890867748\n",
    "\n",
    "Average sentiment for 'clinton': 0.10367563410968239"
   ]
  },
  {
   "attachments": {},
   "cell_type": "markdown",
   "metadata": {},
   "source": [
    "### 2020 Election\n",
    "Biden vs Trump\n",
    "\n",
    "According to TF-DIF results, Biden's top keywords were focused on the election process itself (counting, ballots, votes) and the states of United States. Trump's top keywords were more related to COVID19 diagnosis (tested, coronavirus, postive, symptoms), meaning his health was a major topic during the election process. \n",
    "\n",
    "According the LDA Topics results, shows a split between relations to the election process VS covid for both Biden and Trump. \n",
    "\n",
    "Sentiment Analysis was on Biden by a very slight number."
   ]
  },
  {
   "attachments": {},
   "cell_type": "markdown",
   "metadata": {},
   "source": [
    "Aggregate Rankings\n"
   ]
  },
  {
   "attachments": {},
   "cell_type": "markdown",
   "metadata": {},
   "source": [
    "![Alt text](Screenshot%202024-07-13%20at%202.19.53%E2%80%AFPM.png)\n",
    "![Alt text](Screenshot%202024-07-13%20at%202.20.16%E2%80%AFPM.png)"
   ]
  },
  {
   "attachments": {},
   "cell_type": "markdown",
   "metadata": {},
   "source": [
    "TD-IDF:\n",
    "\n",
    "TF-IDF Keywords for 'biden': [('counting', 0.29487610898971955), ('election', 0.28359085023389374), ('ballots', 0.2336668225423951), ('trump', 0.23240168806101888), ('arizona', 0.2232171442461115), ('votes', 0.19170805452744058), ('night', 0.18522307868943746), ('electoral', 0.15151158358536873), ('victory', 0.14769344382382926), ('wisconsin', 0.1339302865476669), ('australia', 0.12839992485288645), ('close', 0.12839992485288645), ('counted', 0.12839992485288645), ('late', 0.12839992485288645), ('vote', 0.12780536968496037), ('biden', 0.12521014680845372), ('fox', 0.11897767213827257), ('pennsylvania', 0.11897767213827257), ('race', 0.11897767213827257), ('wednesday', 0.11489215690569358)]\n",
    "\n",
    "TF-IDF Keywords for 'trump': [('tested', 0.4769573269653268), ('lady', 0.38105200423670466), ('coronavirus', 0.23394430193380206), ('positive', 0.2286312025420228), ('symptoms', 0.17502055777804085), ('trump', 0.1672135700317533), ('care', 0.16642852927912832), ('statement', 0.16187054125082065), ('melania', 0.15898577565510894), ('house', 0.15344381916988442), ('white', 0.15344381916988442), ('wednesday', 0.1465482323735047), ('said', 0.13855831192184567), ('came', 0.13638601957174992), ('19', 0.13192461060338326), ('covid', 0.09775148136545903), ('president', 0.09595015622865952), ('news', 0.09329007239709233), ('time', 0.09118650740503195), ('associated', 0.08751027888902042)]"
   ]
  },
  {
   "attachments": {},
   "cell_type": "markdown",
   "metadata": {},
   "source": [
    "LDA:\n",
    "\n",
    "LDA Topics for 'biden': {0: ['election', 'republican', 'new', 'republicans', 'day', 'covid', 'party', 'political', 'white', 'long'], 1: ['says', 'people', 'coronavirus', 'new', 'year', 'england', 'uk', 'vaccine', 'team', 'covid'], 2: ['said', 'administration', 'secretary', 'climate', 'world', 'cabinet', 'new', 'military', 'china', 'democratic'], 3: ['uk', 'says', 'family', 'military', 'january', 'government', 'island', 'claims', 'money', 'sent'], 4: ['said', 'election', 'state', 'votes', 'electoral', 'harris', 'people', 'elect', 'vote', 'house']}\n",
    "\n",
    "\n",
    "LDA Topics for 'trump': {0: ['power', 'election', 'america', 'president', 'new', 'people', 'said', 'white', 'positive', 'american'], 1: ['said', 'party', 'house', 'government', 'republican', 'administration', 'biden', 'congress', 'relief', 'president'], 2: ['president', 'election', 'biden', 'said', 'votes', 'people', 'pardon', 'vote', 'house', 'pardons'], 3: ['pardon', 'house', 'white', 'said', 'president', 'michael', 'general', 'like', 'november', 'pardoned'], 4: ['biden', 'president', 'election', 'said', 'state', 'campaign', 'new', 'senate', 'joe', 'house']}"
   ]
  },
  {
   "attachments": {},
   "cell_type": "markdown",
   "metadata": {},
   "source": [
    "Sentiment Analysis:\n",
    "\n",
    "Average sentiment for 'biden': 0.09380347687877506\n",
    "\n",
    "Average sentiment for 'trump': 0.09227556637214365"
   ]
  }
 ],
 "metadata": {
  "kernelspec": {
   "display_name": "Python 3",
   "language": "python",
   "name": "python3"
  },
  "language_info": {
   "codemirror_mode": {
    "name": "ipython",
    "version": 3
   },
   "file_extension": ".py",
   "mimetype": "text/x-python",
   "name": "python",
   "nbconvert_exporter": "python",
   "pygments_lexer": "ipython3",
   "version": "3.12.1"
  },
  "orig_nbformat": 4,
  "vscode": {
   "interpreter": {
    "hash": "aee8b7b246df8f9039afb4144a1f6fd8d2ca17a180786b69acc140d282b71a49"
   }
  }
 },
 "nbformat": 4,
 "nbformat_minor": 2
}
