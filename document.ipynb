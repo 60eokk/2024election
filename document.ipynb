{
 "cells": [
  {
   "attachments": {},
   "cell_type": "markdown",
   "metadata": {},
   "source": [
    "What makes DATA so POWERFUL?\n",
    "It has the power to predict the feature, which is why artificial intelligence is a hot potato"
   ]
  },
  {
   "attachments": {},
   "cell_type": "markdown",
   "metadata": {},
   "source": [
    "Started with using various APIs from the New York Times, The NEWS, Bloomberg.\n",
    "However, their data could not go past a few months before. Thus, \"The Guardian\" was used"
   ]
  },
  {
   "attachments": {},
   "cell_type": "markdown",
   "metadata": {},
   "source": [
    "Some features to notice:"
   ]
  },
  {
   "cell_type": "code",
   "execution_count": 2,
   "metadata": {},
   "outputs": [],
   "source": [
    "# def fetch_article\n",
    "# Note the parameters used for fetch_article\n",
    "# GET request to retrieve articles\n",
    "# Function efficiently parses JSON response to extract title, content for the articles\n",
    "\n",
    "def fetch_articles(api_key, keyword, page_size):\n",
    "    print(f\"Fetching articles for '{keyword}'...\")\n",
    "    base_url = \"https://content.guardianapis.com/search\"\n",
    "    params = {\n",
    "        'api-key': api_key,\n",
    "        'q': keyword,\n",
    "        'page-size': page_size,\n",
    "        'show-fields': 'body',\n",
    "        'from-date': '2012-01-01',\n",
    "        'to-date': '2012-12-31'\n",
    "    }\n",
    "    constructed_url = requests.Request('GET', base_url, params=params).prepare().url\n",
    "    print(f\"Constructed URL for '{keyword}': {constructed_url}\")\n",
    "   \n",
    "    try:\n",
    "        response = requests.get(constructed_url, timeout=10)\n",
    "        response.raise_for_status()\n",
    "        data = response.json()\n",
    "        articles = data['response']['results']\n",
    "        if not articles:\n",
    "            print(f\"No articles found for '{keyword}'.\")\n",
    "            return []\n",
    "        print(f\"Fetched {len(articles)} articles for '{keyword}'.\")\n",
    "        return [(article['webTitle'], article['fields']['body']) for article in articles if 'body' in article['fields']]\n",
    "    except requests.exceptions.HTTPError as http_err:\n",
    "        print(f\"HTTP error occurred while fetching articles for '{keyword}': {http_err}\")\n",
    "    except requests.exceptions.RequestException as err:\n",
    "        print(f\"Request error while fetching articles for '{keyword}': {err}\")\n",
    "    return []"
   ]
  },
  {
   "attachments": {},
   "cell_type": "markdown",
   "metadata": {},
   "source": [
    "Results for 2020 Election:"
   ]
  },
  {
   "attachments": {},
   "cell_type": "markdown",
   "metadata": {},
   "source": [
    "![Alt text](images/Screenshot%202024-04-11%20at%203.54.02%20PM.png)"
   ]
  },
  {
   "attachments": {},
   "cell_type": "markdown",
   "metadata": {},
   "source": [
    "Results for 2016 Election:"
   ]
  },
  {
   "attachments": {},
   "cell_type": "markdown",
   "metadata": {},
   "source": [
    "![Alt text](images/Screenshot%202024-04-11%20at%203.54.18%20PM.png)"
   ]
  },
  {
   "attachments": {},
   "cell_type": "markdown",
   "metadata": {},
   "source": [
    "Results for 2012 Election:"
   ]
  },
  {
   "attachments": {},
   "cell_type": "markdown",
   "metadata": {},
   "source": [
    "![Alt text](images/Screenshot%202024-04-11%20at%203.54.22%20PM.png)"
   ]
  },
  {
   "cell_type": "markdown",
   "metadata": {},
   "source": []
  }
 ],
 "metadata": {
  "kernelspec": {
   "display_name": "Python 3",
   "language": "python",
   "name": "python3"
  },
  "language_info": {
   "codemirror_mode": {
    "name": "ipython",
    "version": 3
   },
   "file_extension": ".py",
   "mimetype": "text/x-python",
   "name": "python",
   "nbconvert_exporter": "python",
   "pygments_lexer": "ipython3",
   "version": "3.12.1"
  },
  "orig_nbformat": 4,
  "vscode": {
   "interpreter": {
    "hash": "aee8b7b246df8f9039afb4144a1f6fd8d2ca17a180786b69acc140d282b71a49"
   }
  }
 },
 "nbformat": 4,
 "nbformat_minor": 2
}
